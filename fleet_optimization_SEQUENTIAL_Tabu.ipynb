{
 "cells": [
  {
   "cell_type": "code",
   "execution_count": 1,
   "metadata": {},
   "outputs": [],
   "source": [
    "from haversine import haversine\n",
    "import csv\n",
    "import numpy as np\n",
    "import time\n",
    "import matplotlib.pyplot as plt\n",
    "import math\n",
    "import os\n",
    "\n",
    "from numba import cuda, float32, vectorize, njit"
   ]
  },
  {
   "cell_type": "markdown",
   "metadata": {},
   "source": [
    "# TIME ARRAY"
   ]
  },
  {
   "cell_type": "code",
   "execution_count": 2,
   "metadata": {},
   "outputs": [],
   "source": [
    "timing = []"
   ]
  },
  {
   "cell_type": "markdown",
   "metadata": {},
   "source": [
    "# SETUP CODE"
   ]
  },
  {
   "cell_type": "code",
   "execution_count": 3,
   "metadata": {},
   "outputs": [],
   "source": [
    "def setup(iter):\n",
    "    # temporary location list\n",
    "    csv_file = csv.reader(open('data_generation/{}/airports.csv'.format(iter)))\n",
    "    count = 0\n",
    "    base = np.zeros(shape=(378,3), dtype='float32')\n",
    "    for row in csv_file:\n",
    "        if row[0] is '0':\n",
    "            base[count] = [float(row[1]), float(row[2]), 2]\n",
    "            count += 1\n",
    "        elif row[0] is '1':\n",
    "            base[count] = [float(row[1]), float(row[2]), 1]\n",
    "            count += 1\n",
    "    del csv_file\n",
    "\n",
    "    csv_file = csv.reader(open('data_generation/{}/missions.csv'.format(iter)))\n",
    "    pickup = np.zeros(shape=(int(iter),3), dtype='float32')\n",
    "    destination = np.zeros(shape=(int(iter),2), dtype='float32')\n",
    "    count = 0\n",
    "    for row in csv_file:\n",
    "        if row[2] is '0':\n",
    "            pickup[count] = [float(row[0]), float(row[1]), 7]\n",
    "            destination[count] = [float(row[3]), float(row[4])]\n",
    "            count += 1\n",
    "        elif row[2] is '1':\n",
    "            pickup[count] = [float(row[0]), float(row[1]), 6]\n",
    "            destination[count] = [float(row[3]), float(row[4])]\n",
    "            count += 1\n",
    "    del csv_file\n",
    "    return base, pickup, destination\n",
    "\n",
    "\n",
    "num_heli = 8  # number of helicopters available\n",
    "num_plane = 4 # number of planes available\n",
    "iter = 180  # which file to run \n",
    "num_base = 378\n",
    "\n",
    "base, pickup, destination = setup(iter)  # setup base, pickup, and destination data"
   ]
  },
  {
   "cell_type": "markdown",
   "metadata": {},
   "source": [
    "# CUDA GENERATE DISTANCE ARRAY (BASES X MISSIONS)"
   ]
  },
  {
   "cell_type": "code",
   "execution_count": 4,
   "metadata": {},
   "outputs": [],
   "source": [
    "def haversine_initialize(base, pickup, destination):\n",
    "    R = 6371.0088\n",
    "    \n",
    "    b_lat = base[0] * math.pi / 180                     \n",
    "    b_lng = base[1] * math.pi / 180 \n",
    "    p_lat = pickup[0] * math.pi / 180                    \n",
    "    p_lng = pickup[1] * math.pi / 180\n",
    "    d_lat = destination[0] * math.pi / 180                    \n",
    "    d_lng = destination[1] * math.pi / 180\n",
    "    \n",
    "    d1 = math.sin((p_lat - b_lat)/2)**2 + math.cos(b_lat)*math.cos(p_lat) * math.sin((p_lng - b_lng)/2)**2\n",
    "    d2 = math.sin((d_lat - b_lat)/2)**2 + math.cos(b_lat)*math.cos(d_lat) * math.sin((d_lng - b_lng)/2)**2\n",
    "\n",
    "    return (2 * R * math.asin(math.sqrt(d1))) + (2 * R * math.asin(math.sqrt(d2)))\n",
    "\n",
    "def generate_distance(base, pickup, destination, distances, iter):\n",
    "    for x in range(378):\n",
    "        for y in range(iter):\n",
    "            distances[x, y] = haversine_initialize(base[x], pickup[y], destination[y])\n",
    "    return distances"
   ]
  },
  {
   "cell_type": "code",
   "execution_count": 5,
   "metadata": {},
   "outputs": [],
   "source": [
    "START = time.time()\n",
    "\n",
    "distances = np.zeros((num_base,int(iter)))\n",
    "\n",
    "# Start the kernel \n",
    "distances = generate_distance(base, pickup, destination, distances, iter)\n",
    "\n",
    "END = time.time()\n",
    "timing.append(END - START)"
   ]
  },
  {
   "cell_type": "markdown",
   "metadata": {},
   "source": [
    "# CHOOSE THE TOPVALS BASED ON SUM OF EVERY BASE TO MISSION"
   ]
  },
  {
   "cell_type": "code",
   "execution_count": 6,
   "metadata": {},
   "outputs": [],
   "source": [
    "#@vectorize([float32(float32, float32, float32, float32, float32, float32)], target=\"parallel\")\n",
    "def choose_top(num_heli, total, distances):\n",
    "    sum_aerodromes = np.sum(distances, axis = 1)\n",
    "    sorted_indices = np.argsort(sum_aerodromes)\n",
    "    \n",
    "    top_vals = np.zeros(total, dtype='int32')\n",
    "    \n",
    "    i = len(sorted_indices) - 1\n",
    "    j = 0\n",
    "    k = 0\n",
    "    while True:\n",
    "        if base[i][2] == 2:\n",
    "            top_vals[j] = sorted_indices[i]\n",
    "            j += 1\n",
    "            if j >= len(top_vals):\n",
    "                break\n",
    "            i -= 1\n",
    "            continue\n",
    "        \n",
    "        if base[i][2] == 1 and k <= num_heli: # ENSURES THERE ARE NOT ONLY HELIPADS\n",
    "            top_vals[j] = sorted_indices[i]\n",
    "            j += 1\n",
    "            k += 1\n",
    "            if j >= len(top_vals):\n",
    "                break\n",
    "            i -= 1\n",
    "    return top_vals"
   ]
  },
  {
   "cell_type": "code",
   "execution_count": 7,
   "metadata": {},
   "outputs": [],
   "source": [
    "START = time.time()\n",
    "\n",
    "top_vals = choose_top(num_heli, num_heli + num_plane, distances)  # choose the top aerodromes for missions (min total distance)\n",
    "\n",
    "END = time.time()\n",
    "timing.append(END - START)"
   ]
  },
  {
   "cell_type": "markdown",
   "metadata": {},
   "source": [
    "# CUT VALUES FROM DISTANCE ARRAY AND SORT RANKS"
   ]
  },
  {
   "cell_type": "code",
   "execution_count": 8,
   "metadata": {},
   "outputs": [],
   "source": [
    "START = time.time()\n",
    "\n",
    "distances = distances[top_vals]  # cut values from distance array not in the top grouping\n",
    "rank_per_mission = np.argsort(distances , axis=0)\n",
    "\n",
    "END = time.time()\n",
    "timing.append(END - START)"
   ]
  },
  {
   "cell_type": "markdown",
   "metadata": {},
   "source": [
    "# GENERATE INITIAL UNUSED ARRAY FROM NON-UTILIZED BASES "
   ]
  },
  {
   "cell_type": "code",
   "execution_count": 9,
   "metadata": {},
   "outputs": [],
   "source": [
    "START = time.time()\n",
    "\n",
    "unused = np.copy(base)\n",
    "unused = np.delete(unused, top_vals, axis=0)\n",
    "\n",
    "END = time.time()\n",
    "timing.append(END - START)"
   ]
  },
  {
   "cell_type": "markdown",
   "metadata": {},
   "source": [
    "# SET HELICOPTERS AT HELIPADS TO 3"
   ]
  },
  {
   "cell_type": "code",
   "execution_count": 10,
   "metadata": {},
   "outputs": [],
   "source": [
    "START = time.time()\n",
    "\n",
    "assign_plane = num_plane\n",
    "assign_heli = num_heli\n",
    "for j, i in enumerate(base[top_vals]):\n",
    "    if i[2] == 1:\n",
    "        base[top_vals[j]][2] = 3 \n",
    "        assign_heli -= 1\n",
    "\n",
    "sum_ranks = np.sum(rank_per_mission, axis = 1)\n",
    "sum_ranks = np.argsort(sum_ranks)  \n",
    "\n",
    "END = time.time()\n",
    "timing.append(END - START)"
   ]
  },
  {
   "cell_type": "markdown",
   "metadata": {},
   "source": [
    "# SET HELICOPTERS AND PLANES  AT AIRPORT TO 4 AND 5"
   ]
  },
  {
   "cell_type": "code",
   "execution_count": 11,
   "metadata": {},
   "outputs": [],
   "source": [
    "START = time.time()\n",
    "\n",
    "for j, i in enumerate(sum_ranks):\n",
    "    if i < assign_heli and base[top_vals[j]][2] != 3:\n",
    "        base[top_vals[j]][2] = 4 \n",
    "    elif base[top_vals[j]][2] != 3:\n",
    "        base[top_vals[j]][2] = 5\n",
    "        \n",
    "END = time.time()\n",
    "timing.append(END - START)"
   ]
  },
  {
   "cell_type": "markdown",
   "metadata": {},
   "source": [
    "# ASSIGN HELICOPTERS AND PLANES TO MISSIONS"
   ]
  },
  {
   "cell_type": "code",
   "execution_count": 12,
   "metadata": {},
   "outputs": [],
   "source": [
    "START = time.time()\n",
    "\n",
    "vehicle = np.zeros(shape=(len(pickup),3), dtype='float32')\n",
    "\n",
    "for i in range(len(pickup)):\n",
    "    if pickup[i][2] == 6:\n",
    "        j = 0\n",
    "        while True:\n",
    "            col = rank_per_mission[:,i]\n",
    "            index = np.where(col == j)\n",
    "            if base[top_vals[index[0][0]]][2] != 5:\n",
    "                vehicle[i] = base[top_vals[index[0][0]]]\n",
    "                break\n",
    "            else:\n",
    "                j += 1\n",
    "    else:\n",
    "        col = rank_per_mission[:,i]\n",
    "        index = np.where(col == 0)\n",
    "        vehicle[i] = base[top_vals[index[0][0]]]\n",
    "        \n",
    "END = time.time()\n",
    "timing.append(END - START)"
   ]
  },
  {
   "cell_type": "markdown",
   "metadata": {},
   "source": [
    "# PUT NON-ASSIGNED VEHCILE BASES TO UNUSED"
   ]
  },
   "source": [
    "START = time.time()\n",
    "\n",
    "if len(np.unique(vehicle, axis=0)) < (num_heli + num_plane):\n",
    "    a1_rows = base[top_vals].view([('', base[top_vals].dtype)] * base[top_vals].shape[1])\n",
    "    a2_rows = np.unique(vehicle, axis=0).view([('', np.unique(vehicle, axis=0).dtype)] * np.unique(vehicle, axis=0).shape[1])\n",
    "    missing = np.setdiff1d(a1_rows, a2_rows).view(base[top_vals].dtype).reshape(-1, base[top_vals].shape[1])\n",
    "\n",
    "    unused =  np.concatenate((missing, unused), axis=0)\n",
    "\n",
    "if 378-len(unused) != 0:\n",
    "    unused = np.concatenate((unused, np.zeros(shape=(378-len(unused),3), dtype='float32')), axis=0)\n",
    "\n",
    "print(unused)\n",
    "    \n",
    "END = time.time()\n",
    "timing.append(END - START)"
   ]
  },
  {
   "cell_type": "markdown",
   "metadata": {},
   "source": [
    "# ARRAYS AND TIMING"
   ]
  },
  {
   "cell_type": "code",
   "execution_count": 14,
   "metadata": {},
   "outputs": [
    {
     "name": "stdout",
     "output_type": "stream",
     "text": [
      "DESTINATION => (180, 2)\n",
      "PICKUP => (180, 3)\n",
      "VEHICLE => (180, 3)\n",
      "UNUSED => (378, 3)\n"
     ]
    }
   ],
   "source": [
    "print(\"DESTINATION => {}\".format(destination.shape))\n",
    "print(\"PICKUP => {}\".format(pickup.shape))\n",
    "print(\"VEHICLE => {}\".format(vehicle.shape))\n",
    "print(\"UNUSED => {}\".format(unused.shape))"
   ]
  },
  {
   "cell_type": "code",
   "execution_count": 15,
   "metadata": {},
   "outputs": [
    {
     "name": "stdout",
     "output_type": "stream",
     "text": [
      "[0.9073536396026611, 0.0, 0.0, 0.0, 0.0, 0.0, 0.0019712448120117188, 0.0009980201721191406]\n",
      "0.910322904586792\n"
     ]
    }
   ],
   "source": [
    "print(timing)\n",
    "print(sum(timing))"
   ]
  },
  {
   "cell_type": "markdown",
   "metadata": {},
   "source": [
    "# HAVERSINE TOTAL FORMULAS"
   ]
  },
  {
   "cell_type": "code",
   "execution_count": 16,
   "metadata": {},
   "outputs": [],
   "source": [
    "@njit\n",
    "def haversine_formula(vehicle1, vehicle2, pickup1, pickup2, destination1, desintation2):\n",
    "    R = 6371.0088\n",
    "    \n",
    "    b_lat = vehicle1 * math.pi / 180                     \n",
    "    b_lng = vehicle2 * math.pi / 180 \n",
    "    p_lat = pickup1 * math.pi / 180                    \n",
    "    p_lng = pickup2 * math.pi / 180\n",
    "    d_lat = destination1 * math.pi / 180                    \n",
    "    d_lng = desintation2 * math.pi / 180\n",
    "\n",
    "    \n",
    "    d1 = math.sin((p_lat - b_lat)/2)**2 + math.cos(b_lat)*math.cos(p_lat) * math.sin((p_lng - b_lng)/2)**2\n",
    "    d2 = math.sin((d_lat - b_lat)/2)**2 + math.cos(b_lat)*math.cos(d_lat) * math.sin((d_lng - b_lng)/2)**2\n",
    "\n",
    "    return (2 * R * math.asin(math.sqrt(d1))) + (2 * R * math.asin(math.sqrt(d2)))\n",
    "\n",
    "@vectorize([float32(float32, float32, float32, float32, float32, float32)])\n",
    "def haversine_total(vehicle1, vehicle2, pickup1, pickup2, destination1, desintation2):\n",
    "    return haversine_formula(vehicle1, vehicle2, pickup1, pickup2, destination1, desintation2)"
   ]
  },
  {
   "cell_type": "code",
   "execution_count": 17,
   "metadata": {},
   "outputs": [
    {
     "name": "stdout",
     "output_type": "stream",
     "text": [
      "0.0\n",
      "325500.9944152832\n"
     ]
    }
   ],
   "source": [
    "START = time.time()\n",
    "\n",
    "current_total = haversine_total(vehicle[:,0], vehicle[:,1], pickup[:,0], pickup[:,1], destination[:,0], destination[:,1])\n",
    "current_total = sum(current_total)\n",
    "\n",
    "END = time.time()\n",
    "print(END - START)\n",
    "print(current_total)"
   ]
  },
  {
   "cell_type": "markdown",
   "metadata": {},
   "source": [
    "# GENERATE PERMUTATION OF UNUSED AND PICKUP"
   ]
  },
  {
   "cell_type": "code",
   "execution_count": 18,
   "metadata": {},
   "outputs": [],
   "source": [
    "def permutations(vehicle, unused):\n",
    "    unused_copy = np.delete(unused, np.argwhere(unused == 0), axis=0)\n",
    "    \n",
    "    perm_pickup = np.arange(len(pickup))\n",
    "    perm_unused = np.arange(len(unused_copy))\n",
    "    \n",
    "    np.random.shuffle(perm_pickup)\n",
    "    np.random.shuffle(perm_unused)\n",
    "    \n",
    "    if len(perm_pickup) < len(perm_unused):\n",
    "        perm_unused = perm_unused[:len(perm_pickup)]\n",
    "    return perm_pickup, perm_unused"
   ]
  },
  {
   "cell_type": "code",
   "execution_count": 19,
   "metadata": {},
   "outputs": [],
   "source": [
    "def quick_perm(vehicle):\n",
    "    perm = np.arange(len(pickup))\n",
    "    np.random.shuffle(perm)\n",
    "    return perm"
   ]
  },
  {
   "cell_type": "markdown",
   "metadata": {},
   "source": [
    "# TABU VALIDATE"
   ]
  },
  {
   "cell_type": "code",
   "execution_count": 20,
   "metadata": {},
   "outputs": [],
   "source": [
    "def tabu_validate(tabu, coordinate):\n",
    "    flag = False\n",
    "    for i in tabu:\n",
    "        if i[0] == coordinate[0] and i[0] == coordinate[0]:\n",
    "            flag = True\n",
    "            break\n",
    "    return flag"
   ]
  },
  {
   "cell_type": "markdown",
   "metadata": {},
   "source": [
    "# TABU ADD"
   ]
  },
  {
   "cell_type": "code",
   "execution_count": 21,
   "metadata": {},
   "outputs": [],
   "source": [
    "def tabu_add(tabu, coordinate):\n",
    "    tabu[10, 0] = coordinate[0]\n",
    "    tabu[10, 1] = coordinate[1]\n",
    "    return tabu"
   ]
  },
  {
   "cell_type": "markdown",
   "metadata": {},
   "source": [
    "# TABU REDUCE"
   ]
  },
  {
   "cell_type": "code",
   "execution_count": 22,
   "metadata": {},
   "outputs": [],
   "source": [
    "def tabu_reduce(tabu):\n",
    "    if tabu[0, 1] != 0 and tabu[0, 0] != 0:\n",
    "        tabu[0, 1] = 0\n",
    "        tabu[0, 0] = 0\n",
    "    tabu = np.roll(tabu, -1, axis = 0)\n",
    "    return tabu"
   ]
  },
  {
   "cell_type": "markdown",
   "metadata": {},
   "source": [
    "# LOCAL-SEARCH"
   ]
  },
  {
   "cell_type": "code",
   "execution_count": 23,
   "metadata": {},
   "outputs": [],
   "source": [
    "def haversine(vehicle1, vehicle2, pickup1, pickup2, destination1, desintation2):\n",
    "    R = 6371.0088\n",
    "    \n",
    "    b_lat = vehicle1 * math.pi / 180                     \n",
    "    b_lng = vehicle2 * math.pi / 180 \n",
    "    p_lat = pickup1 * math.pi / 180                    \n",
    "    p_lng = pickup2 * math.pi / 180\n",
    "    d_lat = destination1 * math.pi / 180                    \n",
    "    d_lng = desintation2 * math.pi / 180\n",
    "\n",
    "    \n",
    "    d1 = math.sin((p_lat - b_lat)/2)**2 + math.cos(b_lat)*math.cos(p_lat) * math.sin((p_lng - b_lng)/2)**2\n",
    "    d2 = math.sin((d_lat - b_lat)/2)**2 + math.cos(b_lat)*math.cos(d_lat) * math.sin((d_lng - b_lng)/2)**2\n",
    "\n",
    "    return (2 * R * math.asin(math.sqrt(d1))) + (2 * R * math.asin(math.sqrt(d2)))\n",
    "\n",
    "def swap(vehicle, pickup, destination, unused, perm_pickup, perm_unused, fswap, tabu_vehicle, tabu_unused):\n",
    "    perm = quick_perm(vehicle)\n",
    "    for i in range(len(perm_pickup)):\n",
    "        for x in range(len(perm)):\n",
    "            # perform vehicle takeover\n",
    "            if vehicle[x, 0] != vehicle[perm_pickup[i], 0] and vehicle[x, 1] != vehicle[perm_pickup[i], 1]:\n",
    "                #check tabu list\n",
    "                validate = tabu_validate(tabu_vehicle, vehicle[x])\n",
    "                if not validate:\n",
    "                    if pickup[x, 2] == 7 or (pickup[x, 2] == 6 and (vehicle[perm_pickup[i], 2] == 3 or vehicle[perm_pickup[i], 2] == 4)):\n",
    "                        temp_d1 = haversine(vehicle[x, 0], vehicle[x, 1], pickup[x, 0], pickup[x, 1], destination[x, 0], destination[x, 1])\n",
    "                        temp_d2 = haversine(vehicle[perm_pickup[i], 0], vehicle[perm_pickup[i], 1], pickup[x, 0], pickup[x, 1], destination[x, 0], destination[x, 1])\n",
    "\n",
    "                        if temp_d1 > temp_d2:\n",
    "                            temp1 = vehicle[x, 0]\n",
    "                            temp2 = vehicle[x, 1]\n",
    "                            temp3 = vehicle[x, 2]\n",
    "\n",
    "                            # add to tabu list\n",
    "                            tabu = tabu_add(tabu_vehicle, vehicle[x])\n",
    "\n",
    "                            # perform mission takeover\n",
    "                            vehicle[x, 0] = vehicle[perm_pickup[i], 0]\n",
    "                            vehicle[x, 1] = vehicle[perm_pickup[i], 1]\n",
    "                            vehicle[x, 2] = vehicle[perm_pickup[i], 2]\n",
    "\n",
    "                    ##############################################################################################################################\n",
    "                    # MAC'S GHETTO MUTEX LOCK ####################################################################################################\n",
    "                    ##############################################################################################################################\n",
    "                    ##############################################################################################################################\n",
    "                    # critical section - add to unused ###########################################################################################\n",
    "                    ##############################################################################################################################\n",
    "                            check = False\n",
    "                            if len(vehicle) > len(unused):\n",
    "                                loop_check = len(vehicle)\n",
    "                            else:\n",
    "                                loop_check = len(unused)\n",
    "                            for j in range(loop_check):\n",
    "                                if j < len(vehicle):\n",
    "                                    if temp1 == vehicle[j][0] and temp2 == vehicle[j][1] and temp3 == vehicle[j][2]:\n",
    "                                        check = True\n",
    "                                        break\n",
    "                                if j < len(unused):\n",
    "                                    if temp1 == unused[j][0] and temp2 == unused[j][1] and temp3 == unused[j][2]:\n",
    "                                        check = True\n",
    "                                        break\n",
    "                            if not check:\n",
    "                                for k in range(len(unused)):\n",
    "                                    if unused[k][0] == 0 and unused[k][1] == 0 and unused[k][2] == 0:\n",
    "                                        unused[k, 0] = temp1\n",
    "                                        unused[k, 1] = temp2\n",
    "                                        unused[k, 2] = temp3\n",
    "                                        break\n",
    "                    ##############################################################################################################################\n",
    "                    ##############################################################################################################################\n",
    "                    ##############################################################################################################################\n",
    "                    ##############################################################################################################################\n",
    "                    ##############################################################################################################################\n",
    "                    ##############################################################################################################################\n",
    "                # perform validate for unused\n",
    "\n",
    "                check1 = False # flag for changing unused \n",
    "                # perform unused vehicle takeover\n",
    "                if (pickup[x, 2] == 7 and (unused[perm_unused[i], 2] == 3 or unused[perm_unused[i], 2] == 4 or unused[perm_unused[i], 2] == 5)) or (pickup[x, 2] == 6 and (unused[perm_unused[i], 2] == 3 or unused[perm_unused[i], 2] == 4)):\n",
    "                    validate = tabu_validate(tabu_unused, vehicle[x])\n",
    "                    if not validate:\n",
    "                        temp_d1 = haversine(vehicle[x, 0], vehicle[x, 1], pickup[x, 0], pickup[x, 1], destination[x, 0], destination[x, 1])\n",
    "                        temp_d2 = haversine(unused[perm_unused[i], 0], unused[perm_unused[i], 1], pickup[x, 0], pickup[x, 1], destination[x, 0], destination[x, 1])\n",
    "\n",
    "                        if temp_d1 > temp_d2:\n",
    "                            temp1 = vehicle[x, 0]\n",
    "                            temp2 = vehicle[x, 1]\n",
    "                            temp3 = vehicle[x, 2]\n",
    "\n",
    "                            # add to tabu list\n",
    "                            tabu = tabu_add(tabu_unused, vehicle[x])\n",
    "\n",
    "                            # perform mission takeover\n",
    "                            vehicle[x, 0] = unused[perm_unused[i], 0]\n",
    "                            vehicle[x, 1] = unused[perm_unused[i], 1]\n",
    "                            vehicle[x, 2] = unused[perm_unused[i], 2]\n",
    "\n",
    "                    ##############################################################################################################################\n",
    "                    # MAC'S GHETTO MUTEX LOCK ####################################################################################################\n",
    "                    ##############################################################################################################################\n",
    "                    ##############################################################################################################################\n",
    "                    # critical section - add to unused ###########################################################################################\n",
    "                    ##############################################################################################################################\n",
    "                            check1 = True\n",
    "                            check2 = False\n",
    "                            for j in range(len(vehicle)):\n",
    "                                if temp1 == vehicle[j][0] and temp2 == vehicle[j][1] and temp3 == vehicle[j][2]:\n",
    "                                    check2 = True\n",
    "                                    break\n",
    "                            if not check2:\n",
    "                                for k in range(len(unused)):\n",
    "                                    if unused[k][0] == 0 and unused[k][1] == 0 and unused[k][2] == 0:\n",
    "                                        unused[k, 0] = temp1\n",
    "                                        unused[k, 1] = temp2\n",
    "                                        unused[k, 2] = temp3\n",
    "                                        break\n",
    "                    ##############################################################################################################################\n",
    "                    ##############################################################################################################################\n",
    "                    ##############################################################################################################################\n",
    "                    ##############################################################################################################################\n",
    "                    ##############################################################################################################################\n",
    "                    ##############################################################################################################################\n",
    "                        if check1:\n",
    "                            unused[perm_unused[i], 0] = 0\n",
    "                            unused[perm_unused[i], 1] = 0\n",
    "                            unused[perm_unused[i], 2] = 0\n",
    "                else:\n",
    "                    validate = tabu_validate(tabu_unused, unused[i])\n",
    "                    if not validate:\n",
    "                        # will only act if it's the earliest thread\n",
    "                        ignore = False\n",
    "                        temp1 = vehicle[x, 0]\n",
    "                        temp2 = vehicle[x, 1]\n",
    "                        temp3 = vehicle[x, 2]\n",
    "\n",
    "                        temp_d1 = 0\n",
    "                        temp_d2 = 0\n",
    "                        for k in range(len(vehicle)):\n",
    "                            if (vehicle[k, 0] == temp1 and vehicle[k, 1] == temp2 and vehicle[k, 2] == temp3) and (k < x):\n",
    "                                ignore = True\n",
    "                                break\n",
    "                        if not ignore:\n",
    "                            if (unused[perm_unused[i], 2] == 2 and (vehicle[x, 2] == 3 or vehicle[x, 2] == 4 or vehicle[x, 2] == 5)) or (unused[perm_unused[i], 2] == 1 and (vehicle[x, 2] == 3 or vehicle[x, 2] == 4)):\n",
    "                                temp_d1 = 0\n",
    "                                temp_d2 = 0\n",
    "                                for k in range(len(vehicle)):\n",
    "                                    if temp1 == vehicle[k, 0] and temp2 == vehicle[k, 1] and temp3 == vehicle[k, 2]:\n",
    "                                        temp_d1 += haversine(vehicle[k, 0], vehicle[k, 1], pickup[k, 0], pickup[k, 1], destination[k, 0], destination[k, 1])\n",
    "                                        temp_d2 += haversine(unused[perm_unused[i], 0], unused[perm_unused[i], 1], pickup[k, 0], pickup[k, 1], destination[k, 0], destination[k, 1])\n",
    "                                if temp_d1 > temp_d2:\n",
    "                                    fswap[0] = min(fswap[0], temp_d2)\n",
    "                        if temp_d2 == fswap[0]:\n",
    "                            # add to tabu list\n",
    "                            tabu = tabu_add(tabu_unused, unused[i])\n",
    "\n",
    "                            fswap[0] = fswap[1] # reset fswap flag\n",
    "                            for k in range(len(vehicle)):\n",
    "                                if temp1 == vehicle[k, 0] and temp2 == vehicle[k, 1] and temp3 == vehicle[k, 2]:\n",
    "                                    vehicle[k, 0] = unused[perm_unused[i], 0]\n",
    "                                    vehicle[k, 1] = unused[perm_unused[i], 1]\n",
    "                                    if unused[perm_unused[i], 2] == 1 and vehicle[k, 2] == 3:\n",
    "                                        vehicle[k, 2] = 3\n",
    "                                    if unused[perm_unused[i], 2] == 1 and vehicle[k, 2] == 4:\n",
    "                                        vehicle[k, 2] = 3\n",
    "                                    if unused[perm_unused[i], 2] == 2 and vehicle[k, 2] == 3:\n",
    "                                        vehicle[k, 2] = 4\n",
    "                                    if unused[perm_unused[i], 2] == 2 and vehicle[k, 2] == 4:\n",
    "                                        vehicle[k, 2] = 4\n",
    "                                    if unused[perm_unused[i], 2] == 2 and vehicle[k, 2] == 5:\n",
    "                                        vehicle[k, 2] = 5\n",
    "                            # add to unused\n",
    "                            for k in range(len(unused)):\n",
    "                                if unused[k][0] == 0 and unused[k][1] == 0 and unused[k][2] == 0:\n",
    "                                    unused[k, 0] = temp1\n",
    "                                    unused[k, 1] = temp2\n",
    "                                    if temp3 == 4 or temp3 == 5:\n",
    "                                        unused[k, 2] = 2\n",
    "                                    else:\n",
    "                                        unused[k, 2] = 1\n",
    "                                    break\n",
    "                            unused[perm_unused[i], 0] = 0\n",
    "                            unused[perm_unused[i], 1] = 0\n",
    "                            unused[perm_unused[i], 2] = 0\n",
    "            tabu_vehicle = tabu_reduce(tabu_vehicle)\n",
    "            tabu_unused = tabu_reduce(tabu_unused)\n",
    "            perm = quick_perm(vehicle)\n",
    "            #print(\"Vehicle\")\n",
    "            #print(tabu_vehicle)\n",
    "            #print()\n",
    "            #print(\"Unused\")\n",
    "            #print(tabu_unused)\n",
    "    return vehicle, unused, tabu_vehicle, tabu_unused"
   ]
  },
  {
   "cell_type": "code",
   "execution_count": null,
   "metadata": {},
   "outputs": [],
   "source": [
    "destination_copy = np.copy(destination)\n",
    "pickup_copy = np.copy(pickup)\n",
    "vehicle_copy = np.copy(vehicle)\n",
    "unused_copy = np.copy(unused)\n",
    "\n",
    "initial_distance = haversine_total(vehicle[:,0], vehicle[:,1], pickup[:,0], pickup[:,1], destination[:,0], destination[:,1])\n",
    "initial_distance = sum(initial_distance)\n",
    "\n",
    "timer = []\n",
    "distance = []\n",
    "\n",
    "for i in range(5):\n",
    "    tabu_vehicle = np.zeros(shape=(11,2), dtype='float32')\n",
    "    tabu_unused = np.zeros(shape=(11,2), dtype='float32')\n",
    "    \n",
    "    current_total = haversine_total(vehicle[:,0], vehicle[:,1], pickup[:,0], pickup[:,1], destination[:,0], destination[:,1])\n",
    "    current_total = sum(current_total)\n",
    "    stop = 10\n",
    "    START = time.time()\n",
    "    while True:\n",
    "        perm_pickup, perm_unused = permutations(vehicle, unused)\n",
    "        fswap = np.array((current_total, current_total))\n",
    "        \n",
    "        #print(fswap)\n",
    "\n",
    "        # Start the kernel \n",
    "        vehicle, unused, tabu_vehicle, tabu_unused = swap(vehicle, pickup, destination, unused, perm_pickup, perm_unused, fswap, tabu_vehicle, tabu_unused)\n",
    "\n",
    "        updated_total = haversine_total(vehicle[:,0], vehicle[:,1], pickup[:,0], pickup[:,1], destination[:,0], destination[:,1])\n",
    "        updated_total = sum(updated_total)\n",
    "\n",
    "        if current_total > updated_total:\n",
    "            current_total = updated_total\n",
    "            stop = 10\n",
    "        stop -= 1\n",
    "\n",
    "        if stop == 0:\n",
    "            break\n",
    "    END = time.time()\n",
    "    \n",
    "    timer.append(END - START)\n",
    "    distance.append(current_total)\n",
    "    \n",
    "    destination = np.copy(destination_copy)\n",
    "    pickup = np.copy(pickup_copy)\n",
    "    vehicle = np.copy(vehicle_copy)\n",
    "    unused = np.copy(unused_copy)"
   ]
  },
  {
   "cell_type": "code",
   "execution_count": null,
   "metadata": {},
   "outputs": [],
   "source": [
    "import statistics\n",
    "import math\n",
    "\n",
    "print(statistics.mean(timer))\n",
    "print(sum(timing))\n",
    "\n",
    "print(statistics.mean(timer) + sum(timing))"
   ]
  },
  {
   "cell_type": "code",
   "execution_count": null,
   "metadata": {},
   "outputs": [],
   "source": [
    "std = statistics.stdev(distance)\n",
    "mean_distance = np.mean(distance)\n",
    "num_samples = len(distance)"
   ]
  },
  {
   "cell_type": "code",
   "execution_count": null,
   "metadata": {},
   "outputs": [],
   "source": [
    "print(\"Initial Distance => {}\".format((initial_distance)))\n",
    "print(\"Confidence Interval => {}\".format(1.959 * (std / math.sqrt(num_samples))))\n",
    "print(\"Upper Limit \\t\\t=> {}\".format(mean_distance + (1.959 * (std / math.sqrt(num_samples)))))\n",
    "print(\"Lower Limit \\t\\t=> {}\\n\".format(mean_distance - (1.959 * (std / math.sqrt(num_samples)))))\n",
    "print(\"Average Distance \\t\\t=> {}\\n\".format(statistics.mean(distance)))"
   ]
  },
  {
   "cell_type": "code",
   "execution_count": null,
   "metadata": {},
   "outputs": [],
   "source": [
    "print(timer)"
   ]
  },
  {
   "cell_type": "code",
   "execution_count": null,
   "metadata": {},
   "outputs": [],
   "source": []
  },
  {
   "cell_type": "code",
   "execution_count": null,
   "metadata": {},
   "outputs": [],
   "source": []
  },
  {
   "cell_type": "code",
   "execution_count": null,
   "metadata": {},
   "outputs": [],
   "source": [
    "test = np.zeros(shape=(11,2), dtype='float32')\n",
    "test[5,0] = 1\n",
    "test[5,1] = 1\n",
    "print(test)\n",
    "test = np.roll(test, -1, axis = 0)\n",
    "print()\n",
    "print(test)\n",
    "print()\n",
    "print(test[4])"
   ]
  },
  {
   "cell_type": "code",
   "execution_count": null,
   "metadata": {},
   "outputs": [],
   "source": []
  }
 ],
 "metadata": {
  "kernelspec": {
   "display_name": "Python 3",
   "language": "python",
   "name": "python3"
  },
  "language_info": {
   "codemirror_mode": {
    "name": "ipython",
    "version": 3
   },
   "file_extension": ".py",
   "mimetype": "text/x-python",
   "name": "python",
   "nbconvert_exporter": "python",
   "pygments_lexer": "ipython3",
   "version": "3.7.3"
  }
 },
 "nbformat": 4,
 "nbformat_minor": 2
}
